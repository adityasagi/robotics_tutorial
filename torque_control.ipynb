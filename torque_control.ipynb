{
 "cells": [
  {
   "cell_type": "code",
   "execution_count": 1,
   "metadata": {},
   "outputs": [],
   "source": [
    "###############################\n",
    "# Import the necessary modules\n",
    "###############################\n",
    "\n",
    "# The PyBullet physics simulation library\n",
    "import pybullet as p\n",
    "import pybullet_data\n",
    "\n",
    "# Numpy for numerical calculations and manipulations\n",
    "import numpy as np\n",
    "import math\n",
    "\n",
    "# Matplotlib to create the necessary plots\n",
    "import matplotlib.pyplot as plt"
   ]
  },
  {
   "cell_type": "code",
   "execution_count": 2,
   "metadata": {},
   "outputs": [],
   "source": [
    "#################################################################\n",
    "# Forward and Inverse kinematics modules for the serial-2R robot\n",
    "#################################################################\n",
    "\n",
    "def forward_kinematics(theta1, theta2, l1, l2):\n",
    "    '''\n",
    "    Forward kinematics module for a serial-2R chain.\n",
    "    The base of the manipulator is assumed to be placed at the\n",
    "    coordinates [0,0].\n",
    "    All the joints allow rotation about the positive Z-axis.\n",
    "    Args:\n",
    "    --- theta1: Angle between the link l1 and the positive x-axis (in radians)\n",
    "    --- theta2: Relative angle between link l1 and link l2 (in radians)\n",
    "    --- l1: Length of link l1 (in m)\n",
    "    --- l2: Length of link l2 (in m)\n",
    "    Ret:\n",
    "    --- [x, y]: Position co-ordinates of the end-effector (in m)\n",
    "    '''\n",
    "    x = l1*math.cos(theta1) + l2*math.cos(theta1 + theta2)\n",
    "    y = l1*math.sin(theta1) + l2*math.sin(theta1 + theta2)\n",
    "    return [x, y]\n",
    "\n",
    "def inverse_kinematics(x, y, l1, l2, branch=1):\n",
    "    '''\n",
    "    Inverse kinematics modules for the serial-2R manipulator.\n",
    "    The base of the manipulator is placed at [0,0].\n",
    "    Axis of rotation is the Z+ axis.\n",
    "    Args:\n",
    "    --- x : X co-ordinate of the end-effector\n",
    "    --- y : Y co-ordinate of the end-effector\n",
    "    --- l1: Length of link l1\n",
    "    --- l2: Length of link l2\n",
    "    --- branch: Branch of the inverse kinematics solution.\n",
    "    Ret:\n",
    "    --- valid: Binary variable indicating if the solution is valid or not\n",
    "    --- [theta1, theta2]: Angles made by link l1 w.r.t X+ axis and the relative\n",
    "                    angle between links l1 and l2 respectively.\n",
    "    '''\n",
    "    a = 2*x*l2\n",
    "    b = 2*y*l2\n",
    "    c =  l1*l1 - x*x - y*y  - l2*l2 \n",
    "    psi = math.atan2(b, a)\n",
    "    d = -c/math.sqrt(a*a + b*b)\n",
    "    \n",
    "    if (d < -1) or (d > 1):\n",
    "        print(\"Position out of workspace.\")\n",
    "        return False, [0,0]\n",
    "    if branch == 1:\n",
    "        theta12 = psi + math.acos(-c/math.sqrt(a*a + b*b))\n",
    "    else:\n",
    "        theta12 = psi - math.acos(-c/math.sqrt(a*a + b*b))\n",
    "        \n",
    "    theta1 = math.atan2((y - l2*math.sin(theta12))/l1, (x - l2*math.cos(theta12))/l1)\n",
    "    return True, [theta1, theta12-theta1]"
   ]
  },
  {
   "cell_type": "code",
   "execution_count": 3,
   "metadata": {},
   "outputs": [],
   "source": [
    "##############################################################\n",
    "# Create an instance of the Physics Server and connect to it\n",
    "##############################################################\n",
    "\n",
    "# Use p.DIRECT to connect to the server without rendering a GUI\n",
    "# Use p.GUI to create a GUI to render the simulation\n",
    "client = p.connect(p.GUI) # or p.GUI\n",
    "\n",
    "\n",
    "# Load the URDF of the plane that forms the ground\n",
    "p.setAdditionalSearchPath(pybullet_data.getDataPath()) # Set the search path to find the plane.urdf file\n",
    "plane = p.loadURDF(\"plane.urdf\")\n",
    "\n",
    "\n",
    "# Load the URDF of the robot\n",
    "robot = p.loadURDF(\"planar_2R_robot.urdf\")"
   ]
  },
  {
   "cell_type": "code",
   "execution_count": 4,
   "metadata": {},
   "outputs": [],
   "source": [
    "##################################################\n",
    "# Set the necessary parameters for the simulation\n",
    "##################################################\n",
    "\n",
    "# Set the Gravity vector\n",
    "p.setGravity(0,0,-9.81, physicsClientId = client)\n",
    "\n",
    "# Set the simulation time-step\n",
    "p.setTimeStep(0.001) #The lower this is, more accurate the simulation \n",
    "\n",
    "# You can be faster than real-time if you choose\n",
    "#p.setRealTimeSimulation(0)  # we want to be faster than real time."
   ]
  },
  {
   "cell_type": "code",
   "execution_count": 5,
   "metadata": {},
   "outputs": [],
   "source": [
    "#################################\n",
    "# Enable the motors on the joints \n",
    "#################################\n",
    "\n",
    "# This step is required to enable torque control. Refer to the documentation for more details.\n",
    "p.setJointMotorControl2(robot, 1, p.VELOCITY_CONTROL, force=0)\n",
    "p.setJointMotorControl2(robot, 2, p.VELOCITY_CONTROL, force=0)"
   ]
  },
  {
   "cell_type": "code",
   "execution_count": 6,
   "metadata": {},
   "outputs": [],
   "source": [
    "################################################################################\n",
    "# Create a Proportional control loop to regulate the position of a single joint\n",
    "################################################################################\n",
    "\n",
    "# Define a sinusoidal trajectory\n",
    "dt     = 0.001 # Simulation time-step\n",
    "f      = 1.0 # Frequency of oscillation (1 Hz)\n",
    "omega  = 2*math.pi*f # Angular frequency\n",
    "theta0 = 0 # Start position\n",
    "p_des = np.zeros(10000)\n",
    "for i in range(10000):\n",
    "    t = i*dt\n",
    "    p_des[i] = np.sin(theta0 + omega*t)\n",
    "\n",
    "\n",
    "    \n",
    "\n",
    "p_gain = 1000 # Proportional gain\n",
    "d_gain = 500 # Derivative gain\n",
    "\n",
    "error = 0\n",
    "error_old = 0\n",
    "\n",
    "pos1 = []\n",
    "cf = []\n",
    "\n",
    "# Run the control loop\n",
    "for i in range(10000):\n",
    "    \n",
    "    # Get the joint state\n",
    "    p_act, _, _, _ = p.getJointState(robot, 1)\n",
    "    \n",
    "    # Calculate the control input\n",
    "    error_old = error\n",
    "    error = p_des[i] - p_act\n",
    "    error_d = (error - error_old)/dt\n",
    "    control_force = p_gain * error + d_gain * error_d # PD control\n",
    "    control_force = np.clip(control_force, -50, 50) # Saturation; to model the torque limit of the motors\n",
    "    \n",
    "    # Run the simulation for one time-step\n",
    "    p.setJointMotorControl2(robot, 1, p.TORQUE_CONTROL, force=control_force)\n",
    "    p.stepSimulation()\n",
    "    \n",
    "    # Store the data for plotting\n",
    "    pos1.append(p_act)\n",
    "    cf.append(control_force)\n",
    "    "
   ]
  },
  {
   "cell_type": "code",
   "execution_count": 7,
   "metadata": {},
   "outputs": [
    {
     "data": {
      "image/png": "[encoded data removed]",
      "text/plain": [
       "<Figure size 432x288 with 1 Axes>"
      ]
     },
     "metadata": {
      "needs_background": "light"
     },
     "output_type": "display_data"
    }
   ],
   "source": [
    "################\n",
    "# Plot the data\n",
    "################\n",
    "plt.figure(2)\n",
    "plt.plot(pos1, label=\"Actual position\")\n",
    "plt.plot(p_des, label=\"Desired position\")\n",
    "plt.ylim([-2,2])\n",
    "#plt.plot(cf, label=\"Control Input\")\n",
    "plt.legend()\n",
    "plt.show()"
   ]
  },
  {
   "cell_type": "code",
   "execution_count": 8,
   "metadata": {},
   "outputs": [
    {
     "name": "stdout",
     "output_type": "stream",
     "text": [
      "[1.  0.5]\n",
      "[1.0460882504484459, 0.4700223903469647]\n"
     ]
    }
   ],
   "source": [
    "##########################################################\n",
    "# Reach a specified point in the task-space of the robot\n",
    "##########################################################\n",
    "\n",
    "\n",
    "# Kinematics for serial-2R\n",
    "p1 = np.array([1.0, 0.5])\n",
    "p2 = np.array([0.5, 1.0])\n",
    "pt_des = p1 # or p2\n",
    "\n",
    "valid, [theta1, theta2] = inverse_kinematics(pt_des[0], pt_des[1], 1, 1)\n",
    "\n",
    "\n",
    "dt     = 0.001 # simulation time-step\n",
    "p_gain = 200 # Proportional gain\n",
    "d_gain = 50 # Derivative gain\n",
    "error  = 0\n",
    "error_old = 0\n",
    "desired_pos = np.array([theta1, theta2])\n",
    "for _ in range(1000):\n",
    "    pos1, _, _, _ = p.getJointState(robot,1)\n",
    "    pos2, _, _, _ = p.getJointState(robot,2)\n",
    "    pos = np.array([pos1, pos2])\n",
    "    error_old = error\n",
    "    error = desired_pos - pos\n",
    "    error_d = (error - error_old)/dt\n",
    "    control_force = p_gain * error + d_gain * error_d\n",
    "    p.setJointMotorControlArray(robot, [1,2], p.TORQUE_CONTROL, forces=control_force)\n",
    "    p.stepSimulation()\n",
    "\n",
    "    \n",
    "# Check if the robot has reached the desired position\n",
    "pos1, _, _, _ = p.getJointState(robot, 1)\n",
    "pos2, _, _, _ = p.getJointState(robot, 2)\n",
    "pt_act = forward_kinematics(pos1, pos2, 1, 1)\n",
    "\n",
    "print(pt_des)\n",
    "print(pt_act)"
   ]
  },
  {
   "cell_type": "code",
   "execution_count": null,
   "metadata": {},
   "outputs": [],
   "source": []
  }
 ],
 "metadata": {
  "kernelspec": {
   "display_name": "Python 3",
   "language": "python",
   "name": "python3"
  },
  "language_info": {
   "codemirror_mode": {
    "name": "ipython",
    "version": 3
   },
   "file_extension": ".py",
   "mimetype": "text/x-python",
   "name": "python",
   "nbconvert_exporter": "python",
   "pygments_lexer": "ipython3",
   "version": "3.8.8"
  }
 },
 "nbformat": 4,
 "nbformat_minor": 2
}
