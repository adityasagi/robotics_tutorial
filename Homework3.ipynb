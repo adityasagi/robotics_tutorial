{
 "cells": [
  {
   "cell_type": "markdown",
   "metadata": {},
   "source": [
    "## Homework 3\n",
    "\n",
    "1) Implement the forward kinematics for a spatial-3R robot shown below. The lengths of the links L1, L2 and L3 are all 1m. The first revolute joint rotates about an axis that is vertical in the plane of the page. The second and third revolute joints rotate about axes that are normal to the page.\n",
    "\n",
    "\n",
    "2) Design a neural network to solve the inverse kinematics for the spatial 3R robot. Generate data to train the neural network using the forward kinematics function. Use the test data to verify the output of the trained network. Ensure that the error is less than 0.1 degrees for each joint angle. Test the data on atleast 5 random points in the workspace of the robot. Generate the training graph."
   ]
  },
  {
   "cell_type": "markdown",
   "metadata": {},
   "source": [
    "<div>\n",
    "<img src=\"figures/spatial_3R.png\" width=\"400\">\n",
    "</div>"
   ]
  },
  {
   "cell_type": "code",
   "execution_count": null,
   "metadata": {},
   "outputs": [],
   "source": [
    "###############################\n",
    "# Import the necessary modules\n",
    "###############################\n",
    "# Numpy for numerical calculations and manipulations\n",
    "import numpy as np\n",
    "import math\n",
    "\n",
    "# Matplotlib to create the necessary plots\n",
    "import matplotlib.pyplot as plt\n",
    "from mpl_toolkits.mplot3d import Axes3D\n",
    "\n",
    "# Import any other necessary modules (TensorFlow, PyTorch etc.)"
   ]
  },
  {
   "cell_type": "code",
   "execution_count": 25,
   "metadata": {},
   "outputs": [],
   "source": [
    "#################################################################\n",
    "# Forward and Inverse kinematics modules for the spatial-3R robot\n",
    "#################################################################\n",
    "\n",
    "def forward_kinematics(theta1, theta2, theta3, l1, l2, l3):\n",
    "    '''\n",
    "    Forward kinematics module for a spatial-3R chain.\n",
    "    The base of the manipulator is assumed to be placed at the\n",
    "    coordinates [0,0, 0].\n",
    "    All the joints allow rotation about the positive Z-axis.\n",
    "    Args:\n",
    "    --- theta1: Angle between the link l1 and the positive x-axis (in radians)\n",
    "    --- theta2: Relative angle between link l1 and link l2 (in radians)\n",
    "    --- theta3: Relative angle between link l2 and l3 (in radians)\n",
    "    --- l1: Length of link l1 (in m)\n",
    "    --- l2: Length of link l2 (in m)\n",
    "    --- l3: Lenght of link l3 (in m)\n",
    "    Ret:\n",
    "    --- [x, y, z]: Position co-ordinates of the end-effector (in m)\n",
    "    '''\n",
    "    \n",
    "    # WRITE YOUR CODE HERE #\n",
    "    \n",
    "    return [x, y, z]"
   ]
  },
  {
   "cell_type": "code",
   "execution_count": 9,
   "metadata": {},
   "outputs": [],
   "source": [
    "##########################################\n",
    "# Create the training + test data set\n",
    "##########################################\n",
    "\n",
    "\n"
   ]
  },
  {
   "cell_type": "code",
   "execution_count": null,
   "metadata": {},
   "outputs": [],
   "source": [
    "##########################################\n",
    "# Train the network on the data set\n",
    "##########################################\n",
    "\n",
    "# WRITE YOUR CODE HERE #\n",
    "\n",
    "\n",
    "# Plot the training graph"
   ]
  },
  {
   "cell_type": "code",
   "execution_count": null,
   "metadata": {},
   "outputs": [],
   "source": [
    "##########################################\n",
    "# Test the network on the data set\n",
    "##########################################\n",
    "\n",
    "# WRITE YOUR CODE HERE #\n",
    "\n",
    "# Ensure the error is less than 0.1 degrees for each joint angle. Test the network on atleast 5 randomly generated\n",
    "# data points."
   ]
  }
 ],
 "metadata": {
  "celltoolbar": "Raw Cell Format",
  "kernelspec": {
   "display_name": "Python [conda env:pybt] *",
   "language": "python",
   "name": "conda-env-pybt-py"
  },
  "language_info": {
   "codemirror_mode": {
    "name": "ipython",
    "version": 3
   },
   "file_extension": ".py",
   "mimetype": "text/x-python",
   "name": "python",
   "nbconvert_exporter": "python",
   "pygments_lexer": "ipython3",
   "version": "3.7.5"
  }
 },
 "nbformat": 4,
 "nbformat_minor": 2
}
